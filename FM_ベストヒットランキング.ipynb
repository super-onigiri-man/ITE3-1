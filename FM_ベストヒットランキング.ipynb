{
  "nbformat": 4,
  "nbformat_minor": 0,
  "metadata": {
    "colab": {
      "provenance": [],
      "authorship_tag": "ABX9TyODdm5yIQ3eEkLCJHUjx2Z/",
      "include_colab_link": true
    },
    "kernelspec": {
      "name": "python3",
      "display_name": "Python 3"
    },
    "language_info": {
      "name": "python"
    }
  },
  "cells": [
    {
      "cell_type": "markdown",
      "metadata": {
        "id": "view-in-github",
        "colab_type": "text"
      },
      "source": [
        "<a href=\"https://colab.research.google.com/github/super-onigiri-man/ITE3-2/blob/main/FM_%E3%83%99%E3%82%B9%E3%83%88%E3%83%92%E3%83%83%E3%83%88%E3%83%A9%E3%83%B3%E3%82%AD%E3%83%B3%E3%82%B0.ipynb\" target=\"_parent\"><img src=\"https://colab.research.google.com/assets/colab-badge.svg\" alt=\"Open In Colab\"/></a>"
      ]
    },
    {
      "cell_type": "markdown",
      "source": [
        "**FM愛媛 ベストヒットランキング ランキング早見表の使い方**\n",
        "\n",
        "\n",
        "1.   コード左上の再生ボタン「上から」押す（コードが実行されます）\n",
        "\n",
        "2.   途中で見たい週を選択します（1:今週,2:先週,3:選択した週）\n",
        "\n",
        "3.   1,2の場合は約30秒で結果が出力されます。\n",
        "\n",
        "     （水曜日の12時にサイトに掲載されるため、水曜日の正午以前に1を選択すると先週のランキングが出ます）\n",
        "\n",
        "     （日付がたまにバグるときがあります。日付を確認してください）\n",
        "\n",
        "4.   3の場合はYYYY-MM-DDの順序で入力してください。\n",
        "\n",
        "     （例:2023年11月28日→2023-11-28）\n",
        "\n",
        "     （これを選択した場合、入力された一番近い発表日のランキングが出ます）\n",
        "\n",
        "     （未来の日付を入力するとエラーになります）\n",
        "\n",
        "**利用上の注意！**\n",
        "\n",
        "・このコードを書き換えないでください。書き換えると動かなくなる可能性があります。\n",
        "\n",
        "  （将来の僕より優秀なプログラマーのADの方、このクソコードのおファクタリングよろしくお願いします）\n",
        "\n",
        "・連続で使用する場合は5分以上時間を開けてください。\n",
        "\n",
        "  （連続でアクセスすると各サイトのサーバーが攻撃とみなし、アクセス制限をかけられる場合があります。）\n",
        "\n",
        "勉強になるかわかりませんが、このコードに説明を書いています。参考にでもしてください。\n",
        "\n",
        "言語:Python\n",
        "\n",
        "使用した技術:スクレイピング（Webサイトから情報を取得してくる技術のこと）\n"
      ],
      "metadata": {
        "id": "7wpIej67ZaLf"
      }
    },
    {
      "cell_type": "code",
      "source": [
        "!pip install jupysql duckdb-engine"
      ],
      "metadata": {
        "id": "fTlMkKIcWDIz",
        "outputId": "a25fff07-8d07-43f7-fe6b-db550f24809f",
        "colab": {
          "base_uri": "https://localhost:8080/"
        }
      },
      "execution_count": 30,
      "outputs": [
        {
          "output_type": "stream",
          "name": "stdout",
          "text": [
            "Requirement already satisfied: jupysql in /usr/local/lib/python3.10/dist-packages (0.10.7)\n",
            "Requirement already satisfied: duckdb-engine in /usr/local/lib/python3.10/dist-packages (0.10.0)\n",
            "Requirement already satisfied: prettytable in /usr/local/lib/python3.10/dist-packages (from jupysql) (3.9.0)\n",
            "Requirement already satisfied: sqlalchemy in /usr/local/lib/python3.10/dist-packages (from jupysql) (2.0.23)\n",
            "Requirement already satisfied: sqlparse in /usr/local/lib/python3.10/dist-packages (from jupysql) (0.4.4)\n",
            "Requirement already satisfied: ipython-genutils>=0.1.0 in /usr/local/lib/python3.10/dist-packages (from jupysql) (0.2.0)\n",
            "Requirement already satisfied: jinja2 in /usr/local/lib/python3.10/dist-packages (from jupysql) (3.1.2)\n",
            "Requirement already satisfied: sqlglot>=11.3.7 in /usr/local/lib/python3.10/dist-packages (from jupysql) (17.16.2)\n",
            "Requirement already satisfied: ploomber-core>=0.2.7 in /usr/local/lib/python3.10/dist-packages (from jupysql) (0.2.19)\n",
            "Requirement already satisfied: jupysql-plugin in /usr/local/lib/python3.10/dist-packages (from jupysql) (0.3.1)\n",
            "Requirement already satisfied: duckdb>=0.4.0 in /usr/local/lib/python3.10/dist-packages (from duckdb-engine) (0.9.2)\n",
            "Requirement already satisfied: click in /usr/local/lib/python3.10/dist-packages (from ploomber-core>=0.2.7->jupysql) (8.1.7)\n",
            "Requirement already satisfied: pyyaml in /usr/local/lib/python3.10/dist-packages (from ploomber-core>=0.2.7->jupysql) (6.0.1)\n",
            "Requirement already satisfied: posthog in /usr/local/lib/python3.10/dist-packages (from ploomber-core>=0.2.7->jupysql) (3.1.0)\n",
            "Requirement already satisfied: typing-extensions>=4.2.0 in /usr/local/lib/python3.10/dist-packages (from sqlalchemy->jupysql) (4.5.0)\n",
            "Requirement already satisfied: greenlet!=0.4.17 in /usr/local/lib/python3.10/dist-packages (from sqlalchemy->jupysql) (3.0.2)\n",
            "Requirement already satisfied: MarkupSafe>=2.0 in /usr/local/lib/python3.10/dist-packages (from jinja2->jupysql) (2.1.3)\n",
            "Requirement already satisfied: wcwidth in /usr/local/lib/python3.10/dist-packages (from prettytable->jupysql) (0.2.12)\n",
            "Requirement already satisfied: requests<3.0,>=2.7 in /usr/local/lib/python3.10/dist-packages (from posthog->ploomber-core>=0.2.7->jupysql) (2.31.0)\n",
            "Requirement already satisfied: six>=1.5 in /usr/local/lib/python3.10/dist-packages (from posthog->ploomber-core>=0.2.7->jupysql) (1.16.0)\n",
            "Requirement already satisfied: monotonic>=1.5 in /usr/local/lib/python3.10/dist-packages (from posthog->ploomber-core>=0.2.7->jupysql) (1.6)\n",
            "Requirement already satisfied: backoff>=1.10.0 in /usr/local/lib/python3.10/dist-packages (from posthog->ploomber-core>=0.2.7->jupysql) (2.2.1)\n",
            "Requirement already satisfied: python-dateutil>2.1 in /usr/local/lib/python3.10/dist-packages (from posthog->ploomber-core>=0.2.7->jupysql) (2.8.2)\n",
            "Requirement already satisfied: charset-normalizer<4,>=2 in /usr/local/lib/python3.10/dist-packages (from requests<3.0,>=2.7->posthog->ploomber-core>=0.2.7->jupysql) (3.3.2)\n",
            "Requirement already satisfied: idna<4,>=2.5 in /usr/local/lib/python3.10/dist-packages (from requests<3.0,>=2.7->posthog->ploomber-core>=0.2.7->jupysql) (3.6)\n",
            "Requirement already satisfied: urllib3<3,>=1.21.1 in /usr/local/lib/python3.10/dist-packages (from requests<3.0,>=2.7->posthog->ploomber-core>=0.2.7->jupysql) (2.0.7)\n",
            "Requirement already satisfied: certifi>=2017.4.17 in /usr/local/lib/python3.10/dist-packages (from requests<3.0,>=2.7->posthog->ploomber-core>=0.2.7->jupysql) (2023.11.17)\n"
          ]
        }
      ]
    },
    {
      "cell_type": "code",
      "source": [
        "# エクステンションを読み込む\n",
        "%load_ext sql\n",
        "\n",
        "# DuckDBのインメモリのDBに接続する\n",
        "%sql duckdb://"
      ],
      "metadata": {
        "colab": {
          "base_uri": "https://localhost:8080/"
        },
        "id": "PoWZ8yzmzD3T",
        "outputId": "84c72a42-ef57-4194-e91f-8df653bf3e21"
      },
      "execution_count": 31,
      "outputs": [
        {
          "output_type": "stream",
          "name": "stdout",
          "text": [
            "The sql extension is already loaded. To reload it, use:\n",
            "  %reload_ext sql\n"
          ]
        }
      ]
    },
    {
      "cell_type": "code",
      "source": [
        "%reload_ext sql"
      ],
      "metadata": {
        "id": "PXh_wItXj7O-"
      },
      "execution_count": 32,
      "outputs": []
    },
    {
      "cell_type": "code",
      "source": [
        "%%sql\n",
        "SELECT * FROM music_master.csv LIMIT 3;"
      ],
      "metadata": {
        "colab": {
          "base_uri": "https://localhost:8080/",
          "height": 75
        },
        "id": "BYeLO8xUzH1P",
        "outputId": "bc67676f-4079-483f-f2fd-34001e18e023"
      },
      "execution_count": 41,
      "outputs": [
        {
          "output_type": "stream",
          "name": "stdout",
          "text": [
            " * duckdb://\n",
            "Done.\n"
          ]
        },
        {
          "output_type": "execute_result",
          "data": {
            "text/plain": [
              "[]"
            ],
            "text/html": [
              "<table>\n",
              "    <thead>\n",
              "        <tr>\n",
              "            <th>Title</th>\n",
              "            <th>Artist</th>\n",
              "            <th>Score</th>\n",
              "            <th>Last_rank</th>\n",
              "            <th>Last_number</th>\n",
              "            <th>On_chart</th>\n",
              "        </tr>\n",
              "    </thead>\n",
              "    <tbody>\n",
              "    </tbody>\n",
              "</table>"
            ]
          },
          "metadata": {},
          "execution_count": 41
        }
      ]
    },
    {
      "cell_type": "code",
      "execution_count": 35,
      "metadata": {
        "colab": {
          "base_uri": "https://localhost:8080/"
        },
        "id": "f4G9Cp2XJDxX",
        "outputId": "0099bde2-270f-4bd7-ea71-ef5839a19945"
      },
      "outputs": [
        {
          "output_type": "stream",
          "name": "stdout",
          "text": [
            "見たい週を選択してください\n",
            "1:今回 2:前回 3:別の回2\n",
            "[['アンチコンフィチュール', '≠ME', '6.0'], ['バケツを被れ!', 'HKT48', '5.7'], ['Kissin’ Christmas(クリスマスだからじゃない)2023', '桑田佳祐&松任谷由実', '5.4'], ['承認欲求', '櫻坂46', '5.1'], ['Heart Diamond', 'SUPER☆GiRLS', '4.8'], ['Monopoly', '乃木坂46', '4.5'], ['人生遊戯', 'Sexy Zone', '4.2'], ['Believe it leap/Illusion', '杉本琢弥', '3.9'], ['君の居場所(Have a Good Time Here)', '竹内まりや', '3.6'], ['Mr.Showtime/箱庭のコラル', 'ワンダーランズ×ショウタイム', '3.3'], ['Not Nightmare Christmas(Find the Sunlight/今日みたいな日、僕ら/Pain is Beautiful)', 'YESUNG', '3.0'], ['あなたのいちばんめ', 'KissBee', '2.7'], ['ギフテッド', 'NEWS', '2.4'], ['シブヤ 午後6時', 'ICEx', '2.1'], ['ラストノートしか知らない', '=LOVE', '1.8'], ['Snowbud/BIGHOUSE', 'MAPA', '1.5'], ['VIOLET LINE', 'Roselia', '1.2'], ['I Wish', 'なにわ男子', '0.9'], ['僕らはいま交差点に立って', 'ひめもすオーケストラ', '0.6'], ['RED LINE/ライフ イズ ビューティフル!', 'アンジュルム', '0.3']]\n",
            "\n",
            "2024-01-01付けオリコン週間デジタルシングルランキング\n",
            "[['唱', 'Ado', '6.0'], ['Closer Than This', 'Jimin', '5.7'], ['SOULSOUP', 'Official髭男dism', '5.4'], ['花になって - Be a flower', '緑黄色社会', '5.1'], ['勇者', 'YOASOBI', '4.8'], ['花', '藤井風', '4.5'], [\"Kissin' Christmas (クリスマスだからじゃない) 2023\", '桑田佳祐&松任谷由実', '4.2'], ['アイドル', 'YOASOBI', '3.9'], ['SPECIALZ', 'King Gnu', '3.6'], ['最高到達点', 'SEKAI NO OWARI', '3.3'], ['Miracle', 'NEXZ', '3.0'], ['ケセラセラ', 'Mrs. GREEN APPLE', '2.7'], ['クラクラ', 'Ado', '2.4'], ['第ゼロ感', '10-FEET', '2.1'], ['Ashes', 'Superfly', '1.8'], ['想望', '福山雅治', '1.5'], ['Sleep Walking Orchestra', 'BUMP OF CHICKEN', '1.2'], ['Anytime Anywhere', 'milet', '0.9'], ['オトナブルー', '新しい学校のリーダーズ', '0.6'], ['晩餐歌', 'tuki.', '0.3']]\n",
            "\n",
            "2023-12-27付けビルボードJAPAN HOT100ランキング\n",
            "[['唱', 'Ado', '6.0'], [\"Kissin' Christmas (クリスマスだからじゃない) 2023\", '桑田佳祐&松任谷由実', '5.7'], ['アイドル', 'YOASOBI', '5.4'], ['アンチコンフィチュール', '≠ME', '5.1'], ['バケツを被れ!', 'HKT48', '4.8'], ['クリスマスソング', 'back number', '4.5'], ['SPECIALZ', 'King Gnu', '4.2'], ['晩餐歌', 'tuki.', '3.9'], ['勇者', 'YOASOBI', '3.6'], ['恋人たちのクリスマス', 'マライア・キャリー', '3.3'], ['花になって', '緑黄色社会', '3.0'], ['怪獣の花唄', 'Vaundy', '2.7'], ['SOULSOUP', 'Official髭男dism', '2.4'], ['花', '藤井風', '2.1'], ['Subtitle', 'Official髭男dism', '1.8'], ['ランデヴー', 'シャイトープ', '1.5'], ['ケセラセラ', 'Mrs.GREEN APPLE', '1.2'], ['青のすみか', 'キタニタツヤ', '0.9'], ['最高到達点', 'SEKAI NO OWARI', '0.6'], ['Perfect Night', 'LE SSERAFIM', '0.3']]\n"
          ]
        }
      ],
      "source": [
        "import requests\n",
        "from bs4 import BeautifulSoup #スクレイピング（取得）用\n",
        "import datetime #日付計算用\n",
        "import pandas as pd #ランキング用（将来的に使用予定）\n",
        "\n",
        "#scoreを元にしたオリコンシングル・オリコンデジタル・ビルボード総合ランキング\n",
        "#準備中\n",
        "# オリコン週間ランキング用\n",
        "OriconWeekData = []\n",
        "# オリコンデジタルランキング用\n",
        "OriconDigitalData = []\n",
        "# ビルボードランキング用\n",
        "BillboardData = []\n",
        "\n",
        "\n",
        "def selecter():\n",
        "\n",
        "    print(\"見たい週を選択してください\")\n",
        "    select = int(input(\"1:今回 2:前回 3:別の回\"))\n",
        "    return select\n",
        "\n",
        "def OriconTodays():\n",
        "    # 今日の日付を求める\n",
        "    d_today = datetime.date.today()\n",
        "    # 今日の曜日を求める\n",
        "    todayweek = datetime.date.today().weekday()\n",
        "    #print(d_today, todayweek)\n",
        "\n",
        "    #オリコンの発表は毎週水曜日のため、火曜日までは先週のランキングを表示\n",
        "    #日付は来週の水曜日付となる。\n",
        "    if (todayweek == 0):  # 今日が月曜日(先週(今週月曜日)のランキング表示)\n",
        "        Oriconday = d_today\n",
        "    elif (todayweek == 1):# 今日が火曜日(先週(今週月曜日)のランキング表示)\n",
        "        Oriconday = d_today - datetime.timedelta(days=1)\n",
        "    elif (todayweek == 2):# 今日が水曜日\n",
        "        Oriconday = d_today + datetime.timedelta(days=5)\n",
        "    elif (todayweek == 3):# 今日が木曜日\n",
        "        Oriconday = d_today + datetime.timedelta(days=4)\n",
        "    elif (todayweek == 4):# 今日が金曜日\n",
        "        Oriconday = d_today + datetime.timedelta(days=3)\n",
        "    elif (todayweek == 5):# 今日が土曜日\n",
        "        Oriconday = d_today + datetime.timedelta(days=2)\n",
        "    elif (todayweek == 6):# 今日が日曜日\n",
        "        Oriconday = d_today + datetime.timedelta(days=1)\n",
        "\n",
        "    return Oriconday\n",
        "\n",
        "\n",
        "def OriconLastWeek():\n",
        "    # 今日の日付を求める\n",
        "    d_today = datetime.date.today()\n",
        "    # 今日の曜日を求める\n",
        "    todayweek = datetime.date.today().weekday()\n",
        "    # print(d_today, todayweek)\n",
        "\n",
        "    # オリコンの発表は毎週水曜日のため、火曜日までは先週のランキングを表示\n",
        "    # 日付は来週の月曜日付となる。\n",
        "    if (todayweek == 0):  # 今日が月曜日(先週(今週月曜日)のランキング表示)\n",
        "        Oriconday = d_today\n",
        "    elif (todayweek == 1):  # 今日が火曜日(先週(今週月曜日)のランキング表示)\n",
        "        Oriconday = d_today - datetime.timedelta(days=1)\n",
        "    elif (todayweek == 2):  # 今日が水曜日\n",
        "        Oriconday = d_today - datetime.timedelta(days=2)\n",
        "    elif (todayweek == 3):  # 今日が木曜日\n",
        "        Oriconday = d_today - datetime.timedelta(days=3)\n",
        "    elif (todayweek == 4):  # 今日が金曜日\n",
        "        Oriconday = d_today - datetime.timedelta(days=4)\n",
        "    elif (todayweek == 5):  # 今日が土曜日\n",
        "        Oriconday = d_today - datetime.timedelta(days=5)\n",
        "    elif (todayweek == 6):  # 今日が日曜日\n",
        "        Oriconday = d_today - datetime.timedelta(days=6)\n",
        "\n",
        "    return Oriconday\n",
        "\n",
        "\n",
        "def OriconSelectWeek():\n",
        "    # 日付の入力を促す\n",
        "    date = input(\"2020年8月3日以降の日付を入力してください (YYYY-MM-DD): \")\n",
        "\n",
        "    # 入力された日付をdatetimeオブジェクトに変換\n",
        "    dt = datetime.datetime.strptime(date, \"%Y-%m-%d\")\n",
        "    dt = dt.date()\n",
        "    # 曜日を取得\n",
        "    weekday = dt.weekday()\n",
        "\n",
        "    # オリコンの発表は毎週水曜日のため、火曜日までは先週のランキングを表示\n",
        "    # 日付は来週の月曜日付となる。\n",
        "    if (weekday == 0):  # 今日が月曜日\n",
        "        Oriconday = dt\n",
        "    elif (weekday == 1):  # 今日が火曜日\n",
        "        Oriconday = dt - datetime.timedelta(days=1)\n",
        "    elif (weekday == 2):  # 今日が水曜日\n",
        "        Oriconday = dt - datetime.timedelta(days=2)\n",
        "    elif (weekday == 3):  # 今日が木曜日\n",
        "        Oriconday = dt - datetime.timedelta(days=3)\n",
        "    elif (weekday == 4):  # 今日が金曜日\n",
        "        Oriconday = dt - datetime.timedelta(days=4)\n",
        "    elif (weekday == 5):  # 今日が土曜日\n",
        "        Oriconday = dt - datetime.timedelta(days=5)\n",
        "    elif (weekday == 6):  # 今日が日曜日\n",
        "        Oriconday = dt - datetime.timedelta(days=6)\n",
        "\n",
        "    return Oriconday\n",
        "\n",
        "\n",
        "def OriconWeekRank(Oriconday):#オリコン週間ランキング\n",
        "\n",
        "    #1位から10位\n",
        "    load_url = \"https://www.oricon.co.jp/rank/js/w/\" + str(Oriconday) + \"/\"\n",
        "    html = requests.get(load_url)\n",
        "    soup = BeautifulSoup(html.text, \"html.parser\")\n",
        "    links = soup.find(class_=\"content-rank-main\").find_all('h2',class_='title') #曲名\n",
        "    artist = soup.find(class_=\"content-rank-main\").find_all('p',class_='name') #アーティスト名\n",
        "    score = 6.0 #独自スコア\n",
        "    rank = 1 #ランキング\n",
        "    # print(str(Oriconday) + \"付けオリコン週間シングルランキング\")\n",
        "\n",
        "\n",
        "    for link, artist in zip(links, artist):\n",
        "      # 10位までランクインしたものを配列に保存\n",
        "      OriconWeekData.append([link.text,artist.text,\"{:.1f}\".format(score)])\n",
        "      # %sql INSERT INTO music_master.csv (Title, Artist, Score) VALUES (link.text, artist.text, Score) ON CONFLICT(Title) DO UPDATE SET Score = Score;\n",
        "\n",
        "      # 壊れたときの表示用\n",
        "      # if rank != 10:#10位以下（１ケタの場合）なら（点数の位置を揃えるため）\n",
        "      #   print(\" \" + str(rank) + \"位 \" + \"{:.1f}　 \".format(score) + link.text + \"/\" + artist.text)\n",
        "      # else: #10位（２ケタの場合）なら\n",
        "      #   print(str(rank) + \"位 \" + \"{:.1f}　 \".format(score) + link.text + \"/\" + artist.text)\n",
        "      rank = rank + 1\n",
        "      score = score - 0.3\n",
        "\n",
        "\n",
        "    #11位から20位\n",
        "    load_url = \"https://www.oricon.co.jp/rank/js/w/\" + str(Oriconday) + \"/p/2/\"\n",
        "    html = requests.get(load_url)\n",
        "    soup = BeautifulSoup(html.text, \"html.parser\")\n",
        "    links = soup.find(class_=\"content-rank-main\").find_all('h2', class_='title')  # 曲名\n",
        "    artist = soup.find(class_=\"content-rank-main\").find_all('p', class_='name')  # アーティスト名\n",
        "    for link, artist in zip(links, artist):\n",
        "      OriconWeekData.append([link.text,artist.text,\"{:.1f}\".format(score)])\n",
        "        # 壊れたときの表示用\n",
        "      # print(str(rank) + \"位 \" + \"{:.1f}　 \".format(score) + link.text + \"/\" + artist.text)\n",
        "      rank = rank + 1\n",
        "      score = score - 0.3\n",
        "\n",
        "    # print(OriconWeekRank)\n",
        "\n",
        "\n",
        "\n",
        "def OriconDigitalRank(Oriconday):#オリコンデジタルシングルランキング\n",
        "    # 1位から10位\n",
        "    load_url = \"https://www.oricon.co.jp/rank/dis/w/\" + str(Oriconday) + \"/\"\n",
        "    html = requests.get(load_url)\n",
        "    soup = BeautifulSoup(html.text, \"html.parser\")\n",
        "    links = soup.find(class_=\"content-rank-main\").find_all('h2', class_='title')\n",
        "    artist = soup.find(class_=\"content-rank-main\").find_all('p', class_='name')  # アーティスト名\n",
        "    rank = 1\n",
        "    score = float(6.0)\n",
        "    print(str(Oriconday) + \"付けオリコン週間デジタルシングルランキング\")\n",
        "    for link, artist in zip(links, artist):\n",
        "      # 壊れたときの表示用\n",
        "        # if rank != 10:#10位以下（１ケタの場合）なら（点数の位置を揃えるため）\n",
        "        #     print(\" \" + str(rank) + \"位 \" + \"{:.1f}　 \".format(score) + link.text + \"/\" + artist.text)\n",
        "        # else: #10位（２ケタの場合）なら\n",
        "        #     print(str(rank) + \"位 \" + \"{:.1f}　 \".format(score) + link.text + \"/\" + artist.text)\n",
        "        OriconDigitalData.append([link.text,artist.text,\"{:.1f}\".format(score)])\n",
        "        rank = rank + 1\n",
        "        score = score - 0.3\n",
        "\n",
        "    # 11位から20位\n",
        "    load_url = \"https://www.oricon.co.jp/rank/dis/w/\" + str(Oriconday) + \"/p/2/\"\n",
        "    html = requests.get(load_url)\n",
        "    soup = BeautifulSoup(html.text, \"html.parser\")\n",
        "    links = soup.find(class_=\"content-rank-main\").find_all('h2', class_='title')\n",
        "    artist = soup.find(class_=\"content-rank-main\").find_all('p', class_='name')  # アーティスト名\n",
        "    for link, artist in zip(links, artist):\n",
        "        OriconDigitalData.append([link.text,artist.text,\"{:.1f}\".format(score)])\n",
        "        # print(str(rank) + \"位 \" + \"{:.1f}　 \".format(score) + link.text + \"/\" + artist.text)\n",
        "        rank = rank + 1\n",
        "        score = score - 0.3\n",
        "\n",
        "def BillboadRank(Oriconday):#ビルボードJAPAN HOT100ランキング\n",
        "\n",
        "    # オリコンの日付とビルボードの発表日の差を埋めるための計算\n",
        "    Billday = Oriconday - datetime.timedelta(days=5)\n",
        "\n",
        "    print(str(Billday) + \"付けビルボードJAPAN HOT100ランキング\")\n",
        "\n",
        "    #URL(ここを変更すると読み込まなくなります)\n",
        "    url = 'https://www.billboard-japan.com/charts/detail?a=hot100&year='+str(Oriconday.year)+'&month='+str(Oriconday.month)+'&day='+str(Oriconday.day)\n",
        "    #URLを取得してくる\n",
        "    response = requests.get(url)\n",
        "    soup = BeautifulSoup(response.text, 'html.parser')\n",
        "\n",
        "    songs = soup.find_all('p', class_='musuc_title') #曲名\n",
        "    artists = soup.find_all('p', class_='artist_name') #アーティスト名\n",
        "    score = 6.0 #基準点\n",
        "\n",
        "    for i in range(20):#20回繰り替えす\n",
        "      song = songs[i].text.strip()\n",
        "      artist = artists[i].text.strip()\n",
        "      BillboardData.append([song,artist,format(score, '.1f')])\n",
        "      # if i < 9:\n",
        "      #   print(f\" {i+1}位: {format(score, '.1f')} {song} / {artist}\") #1位から9位までのランキング\n",
        "      # else:\n",
        "      #   print(f\"{i+1}位: {format(score, '.1f')} {song} / {artist}\") #10位から20位までのランキング\n",
        "      score = score - 0.3 #scoreを-0.3する\n",
        "\n",
        "\n",
        "sel = int(selecter())\n",
        "\n",
        "if sel==1: #今週のランキング表示\n",
        "    OriconTodays()\n",
        "    OriconWeekRank(OriconTodays())\n",
        "    print()\n",
        "    OriconDigitalRank(OriconTodays())\n",
        "    print()\n",
        "    BillboadRank(OriconTodays())\n",
        "\n",
        "elif sel == 2: #前週のランキング表示\n",
        "    OriconLastWeek()\n",
        "    OriconWeekRank(OriconLastWeek())\n",
        "    print(OriconWeekData)\n",
        "    print()\n",
        "    OriconDigitalRank(OriconLastWeek())\n",
        "    print(OriconDigitalData)\n",
        "    print()\n",
        "    BillboadRank(OriconLastWeek())\n",
        "    print(BillboardData)\n",
        "\n",
        "else : #別の週のランキング\n",
        "    OriconWeekRank(OriconSelectWeek())\n",
        "    print()\n",
        "    OriconDigitalRank(OriconSelectWeek())\n",
        "    print()\n",
        "    BillboadRank(OriconSelectWeek())\n"
      ]
    },
    {
      "cell_type": "code",
      "source": [
        "for i in len(OriconWeekData):\n",
        "    %%sql\n",
        "\n",
        "    INSERT INTO test_music_master.csv (Title, Artist, Score)\n",
        "    VALUES (OriconWeekData[i][0], OriconWeekData[i][1], OriconWeekData[i][2])\n",
        "    ON CONFLICT(Title) DO UPDATE SET Score = OriconWeekData{i}[2];"
      ],
      "metadata": {
        "id": "p0qGP8Fxaqos",
        "outputId": "8e82e961-610a-4d69-c5b8-bc5ebe9a23eb",
        "colab": {
          "base_uri": "https://localhost:8080/",
          "height": 145
        }
      },
      "execution_count": 39,
      "outputs": [
        {
          "output_type": "error",
          "ename": "SyntaxError",
          "evalue": "ignored",
          "traceback": [
            "\u001b[0;36m  File \u001b[0;32m\"<ipython-input-39-1c877d325020>\"\u001b[0;36m, line \u001b[0;32m4\u001b[0m\n\u001b[0;31m    INSERT INTO test_music_master.csv (Title, Artist, Score)\u001b[0m\n\u001b[0m           ^\u001b[0m\n\u001b[0;31mSyntaxError\u001b[0m\u001b[0;31m:\u001b[0m invalid syntax\n"
          ]
        }
      ]
    }
  ]
}